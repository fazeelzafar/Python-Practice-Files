{
 "cells": [
  {
   "cell_type": "markdown",
   "id": "2f6bdb47",
   "metadata": {},
   "source": [
    "# Variables in Modules\n",
    "\n",
    "##### • A variable in a module holds a value or data specific to that module, accessible within the module's code."
   ]
  },
  {
   "cell_type": "code",
   "execution_count": 1,
   "id": "7bdf03f1",
   "metadata": {},
   "outputs": [],
   "source": [
    "import TestModule"
   ]
  },
  {
   "cell_type": "code",
   "execution_count": 2,
   "id": "0f834dcf",
   "metadata": {},
   "outputs": [
    {
     "name": "stdout",
     "output_type": "stream",
     "text": [
      "Area of this rectangle is:  15\n"
     ]
    }
   ],
   "source": [
    "TestModule.area(5,3)"
   ]
  },
  {
   "cell_type": "code",
   "execution_count": 3,
   "id": "d9d2da01",
   "metadata": {},
   "outputs": [
    {
     "data": {
      "text/plain": [
       "5"
      ]
     },
     "execution_count": 3,
     "metadata": {},
     "output_type": "execute_result"
    }
   ],
   "source": [
    "TestModule.width"
   ]
  },
  {
   "cell_type": "markdown",
   "id": "89628ece",
   "metadata": {},
   "source": [
    "# Renaming Module\n",
    "\n",
    "##### • We can rename a module in python and give it an alternative, shorter name while importing it. This can be done using the import statement followed by the our desired name, allowing us to use a shorter or more convenient name to refer to the module "
   ]
  },
  {
   "cell_type": "code",
   "execution_count": 4,
   "id": "47cba99a",
   "metadata": {},
   "outputs": [
    {
     "name": "stdout",
     "output_type": "stream",
     "text": [
      "Area of this rectangle is:  15\n"
     ]
    }
   ],
   "source": [
    "import TestModule as tm\n",
    "tm.area(5,3)"
   ]
  },
  {
   "cell_type": "markdown",
   "id": "aeec3b5c",
   "metadata": {},
   "source": [
    "# Built-in Modules\n",
    "\n",
    "##### • Built-in modules are pre-installed modules in Python that offer various functionalities, eliminating the need for additional installations. There are multiple different pre-installed modules in Python, such as \"os\", \"math\", \"datetime\", etc. "
   ]
  },
  {
   "cell_type": "code",
   "execution_count": 5,
   "id": "179ec4b7",
   "metadata": {},
   "outputs": [
    {
     "name": "stdout",
     "output_type": "stream",
     "text": [
      "3.141592653589793\n",
      "2023-06-22 22:43:15.551702\n"
     ]
    }
   ],
   "source": [
    "import math\n",
    "import datetime as dt\n",
    "\n",
    "print(math.pi)\n",
    "print(dt.datetime.now())"
   ]
  },
  {
   "cell_type": "markdown",
   "id": "df74a490",
   "metadata": {},
   "source": [
    "# List All Defined Names of Modules using \"dir\"\n",
    "\n",
    "##### • The dir() function in Python is used to list all the defined names (variables, functions, classes, etc.) in a module. By calling dir(module_name), we can retrieve a list of all the names defined within that module, providing an overview of the available entities and their use."
   ]
  },
  {
   "cell_type": "code",
   "execution_count": 6,
   "id": "d5991cb8",
   "metadata": {},
   "outputs": [
    {
     "name": "stdout",
     "output_type": "stream",
     "text": [
      "['MAXYEAR', 'MINYEAR', '__all__', '__builtins__', '__cached__', '__doc__', '__file__', '__loader__', '__name__', '__package__', '__spec__', 'date', 'datetime', 'datetime_CAPI', 'sys', 'time', 'timedelta', 'timezone', 'tzinfo']\n"
     ]
    }
   ],
   "source": [
    "import datetime as dt\n",
    "print(dir(dt))"
   ]
  },
  {
   "cell_type": "markdown",
   "id": "7eab66a7",
   "metadata": {},
   "source": [
    "# Import a specific function from a module\n",
    "\n",
    "##### • Importing a specific function from a module allows direct access and usage of only that function, without referencing the module name.  By using the \"from module import function\" syntax, we can directly access and use the specified function(s) without having to reference the module name each time."
   ]
  },
  {
   "cell_type": "code",
   "execution_count": 7,
   "id": "b426fcd3",
   "metadata": {},
   "outputs": [],
   "source": [
    "import numpy as np\n",
    "from random import randint"
   ]
  },
  {
   "cell_type": "code",
   "execution_count": 8,
   "id": "9098cac6",
   "metadata": {},
   "outputs": [
    {
     "data": {
      "text/plain": [
       "array([ 1,  7,  6,  3,  3,  1,  9, 10,  6,  5])"
      ]
     },
     "execution_count": 8,
     "metadata": {},
     "output_type": "execute_result"
    }
   ],
   "source": [
    "rand_list = [randint(1, 10) for i in range(10)]\n",
    "np.array(rand_list)"
   ]
  },
  {
   "cell_type": "code",
   "execution_count": 10,
   "id": "2b406838",
   "metadata": {},
   "outputs": [
    {
     "name": "stdout",
     "output_type": "stream",
     "text": [
      "6.0\n"
     ]
    }
   ],
   "source": [
    "from math import sqrt\n",
    "print(sqrt(36))"
   ]
  },
  {
   "cell_type": "markdown",
   "id": "414cd2d8",
   "metadata": {},
   "source": [
    "# Import Modules From A Folder\n",
    "\n",
    "##### • Importing modules from a folder involves organizing code into a folder structure and using the import statement to access modules located within that folder. To ensure that our module is accessible, we have to use the \"sys.path.insert()\" function from the \"sys\" library. By doing this, we are adding the folder that contains our module to the path variable of Python, so that it can be accesseed by Python"
   ]
  },
  {
   "cell_type": "code",
   "execution_count": 12,
   "id": "6565b656",
   "metadata": {},
   "outputs": [],
   "source": [
    "import sys\n",
    "sys.path.insert(0, \"C:\\\\Users\\\\fazee\\\\Desktop\\\\intern-tasks\\\\TestFolder\")\n",
    "\n",
    "from TestModule2 import area2"
   ]
  },
  {
   "cell_type": "code",
   "execution_count": 13,
   "id": "dcec3647",
   "metadata": {},
   "outputs": [
    {
     "name": "stdout",
     "output_type": "stream",
     "text": [
      "Area of this rectangle is:  15\n"
     ]
    }
   ],
   "source": [
    "area2(5,3)"
   ]
  },
  {
   "cell_type": "markdown",
   "id": "1ccd25d0",
   "metadata": {},
   "source": [
    "# 6 Use Cases of Modules\n",
    "\n",
    "##### • Functionality Extension: Modules allow you to extend the capabilities of Python by importing external modules or building your own, expanding the functionality of your programs.\n",
    "\n",
    "##### • Code Organization: Modules help organize code by separating different functionalities into separate files, improving code readability, and making it easier to navigate and maintain.\n",
    "\n",
    "##### • Logging and Error Handling: Modules provide utilities for logging events, tracking application behavior, and handling errors, making it easier to troubleshoot issues and improve application reliability.\n",
    "\n",
    "##### • Collaboration: Modules facilitate collaboration among team members by providing clear interfaces and boundaries, allowing different team members to work on separate modules concurrently.\n",
    "\n",
    "##### • Code Testing and Debugging: Modules allow testing and debugging of individual modules independently, helping identify and fix issues without impacting the rest of the codebase.\n",
    "\n",
    "##### • Code Abstraction: Modules provide a level of abstraction, allowing users of the module to interact with a simplified interface without needing to know the implementation details."
   ]
  },
  {
   "cell_type": "code",
   "execution_count": null,
   "id": "71ea1f56",
   "metadata": {},
   "outputs": [],
   "source": []
  },
  {
   "cell_type": "code",
   "execution_count": null,
   "id": "09b62e17",
   "metadata": {},
   "outputs": [],
   "source": []
  },
  {
   "cell_type": "code",
   "execution_count": null,
   "id": "96348f9b",
   "metadata": {},
   "outputs": [],
   "source": []
  },
  {
   "cell_type": "code",
   "execution_count": null,
   "id": "54511886",
   "metadata": {},
   "outputs": [],
   "source": []
  }
 ],
 "metadata": {
  "kernelspec": {
   "display_name": "Python 3 (ipykernel)",
   "language": "python",
   "name": "python3"
  },
  "language_info": {
   "codemirror_mode": {
    "name": "ipython",
    "version": 3
   },
   "file_extension": ".py",
   "mimetype": "text/x-python",
   "name": "python",
   "nbconvert_exporter": "python",
   "pygments_lexer": "ipython3",
   "version": "3.9.13"
  }
 },
 "nbformat": 4,
 "nbformat_minor": 5
}
