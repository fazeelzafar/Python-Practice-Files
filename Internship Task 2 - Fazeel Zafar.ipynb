{
 "cells": [
  {
   "cell_type": "markdown",
   "id": "e7645594",
   "metadata": {},
   "source": [
    "# Regex\n",
    "\n",
    "##### • Regex is short for Regular Expressions and it is a powerful tool for pattern matching and manipulation of strings. It provides an easy  way to search, extract, and replace specific patterns of text within larger strings."
   ]
  },
  {
   "cell_type": "code",
   "execution_count": 2,
   "id": "7ca9f1c7",
   "metadata": {},
   "outputs": [
    {
     "name": "stdout",
     "output_type": "stream",
     "text": [
      "Enter text: Please contact me at following email:\n",
      "No email found.\n"
     ]
    }
   ],
   "source": [
    "import re\n",
    "\n",
    "email_regex = r'\\b[A-Za-z0-9._%+-]+@[A-Za-z0-9.-]+\\.[A-Za-z]{2,}\\b'\n",
    "inp = input(\"Enter text: \")\n",
    "\n",
    "match = re.search(email_regex, inp)\n",
    "if match:\n",
    "    print(\"Email found:\", match.group())\n",
    "else:\n",
    "    print(\"No email found.\")"
   ]
  },
  {
   "cell_type": "markdown",
   "id": "f46c901a",
   "metadata": {},
   "source": [
    "# Lambda Function\n",
    "\n",
    "##### • Lambda functions, aka anonymous functions, are functions without a name. They are typically used for simple, one-line operations where a function is needed as an argument or for small tasks that don't require a separate function definition"
   ]
  },
  {
   "cell_type": "code",
   "execution_count": 3,
   "id": "38bb42c2",
   "metadata": {},
   "outputs": [
    {
     "name": "stdout",
     "output_type": "stream",
     "text": [
      "['cat', 'dog', 'apple', 'banana']\n"
     ]
    }
   ],
   "source": [
    "#Sorting based on length of each string\n",
    "strings = ['cat', 'apple', 'dog', 'banana']\n",
    "\n",
    "sorted_strings = sorted(strings, key=lambda s: len(s))\n",
    "print(sorted_strings)"
   ]
  },
  {
   "cell_type": "markdown",
   "id": "c41a1068",
   "metadata": {},
   "source": [
    "# List Comprehension\n",
    "\n",
    "##### • List comprehensions provide a concise way to create new lists based on existing lists or other iterable objects. They combine the ability to iterate over elements, apply transformations, and filter elements in a single line of code."
   ]
  },
  {
   "cell_type": "code",
   "execution_count": 4,
   "id": "658bde9b",
   "metadata": {},
   "outputs": [
    {
     "name": "stdout",
     "output_type": "stream",
     "text": [
      "[2, 4, 6, 8, 10]\n"
     ]
    }
   ],
   "source": [
    "# Filtering only even numbers from the list below\n",
    "num = [1, 2, 3, 4, 5, 6, 7, 8, 9, 10]\n",
    "even_num = [i for i in num if i % 2 == 0]\n",
    "print(even_num)"
   ]
  },
  {
   "cell_type": "markdown",
   "id": "7ecb5c2d",
   "metadata": {},
   "source": [
    "# Decorators\n",
    "\n",
    "##### • Decorators allow you to modify the behavior of a function (or class) without directly changing its code. They wrap the original function or class with additional functionality by taking the original function as input and returning a modified version of it."
   ]
  },
  {
   "cell_type": "code",
   "execution_count": 7,
   "id": "c47a3b3a",
   "metadata": {},
   "outputs": [
    {
     "name": "stdout",
     "output_type": "stream",
     "text": [
      "CODEAZA INTERNSHIP\n"
     ]
    }
   ],
   "source": [
    "def uppercase_dec(func):\n",
    "    def text_wrapper():\n",
    "        result = func()\n",
    "        return result.upper()\n",
    "    return text_wrapper\n",
    "\n",
    "@uppercase_dec\n",
    "def Text():\n",
    "    return 'Codeaza Internship'\n",
    "\n",
    "print(Text())"
   ]
  },
  {
   "cell_type": "markdown",
   "id": "e60f294e",
   "metadata": {},
   "source": [
    "# Generators & Yield Keyword\n",
    "\n",
    "##### • Generator expressions are an efficient way to generate values on-the-fly, rather than creating an entire list or sequence at once. They use a similar syntax to list comprehensions but return a generator object that produces values one at a time when iterated over.\n",
    "\n",
    "##### • The \"yield\" keyword is used in the context of generator functions to create a generator object. It allows the function to \"yield\" a value and temporarily suspend its execution, preserving its internal state. The generator can then be iterated over, and each time it yields a value, the function resumes from where it left off."
   ]
  },
  {
   "cell_type": "code",
   "execution_count": 12,
   "id": "b72d6375",
   "metadata": {},
   "outputs": [
    {
     "name": "stdout",
     "output_type": "stream",
     "text": [
      "0\n",
      "2\n",
      "4\n",
      "6\n",
      "8\n"
     ]
    }
   ],
   "source": [
    "def GenerateEvenNum(n):\n",
    "    for i in range(n):\n",
    "        if i % 2 == 0:\n",
    "            yield i\n",
    "\n",
    "# Generator object and Generator function\n",
    "even_nums = GenerateEvenNum(20)\n",
    "\n",
    "# for num in even_nums:\n",
    "#     print(num)\n",
    "\n",
    "print(next(even_nums))\n",
    "print(next(even_nums))\n",
    "print(next(even_nums))\n",
    "print(next(even_nums))\n",
    "print(next(even_nums))"
   ]
  },
  {
   "cell_type": "markdown",
   "id": "0173d7fe",
   "metadata": {},
   "source": [
    "# Iterators\n",
    "\n",
    "##### •  Iterators are objects that implement the iterator protocol, allowing them to be iterated over. They provide a way to access elements of a container one at a time by using the next() function to retrieve the next element."
   ]
  },
  {
   "cell_type": "code",
   "execution_count": 14,
   "id": "bd35e8f6",
   "metadata": {},
   "outputs": [
    {
     "name": "stdout",
     "output_type": "stream",
     "text": [
      "1\n",
      "2\n",
      "3\n",
      "4\n"
     ]
    }
   ],
   "source": [
    "list_of_numbers = [1, 2, 3, 4, 5,6, 7, 8, 9, 10, 11, 12]\n",
    "iterator = iter(list_of_numbers)\n",
    "\n",
    "print(next(iterator))\n",
    "print(next(iterator))\n",
    "print(next(iterator))\n",
    "print(next(iterator))"
   ]
  },
  {
   "cell_type": "markdown",
   "id": "93e3481e",
   "metadata": {},
   "source": [
    "# Paradigms\n",
    "\n",
    "##### • Imperative Programming: Imperative programming focuses on describing how a program should execute step-by-step, emphasizing the sequence of statements and the modification of program state.\n",
    "\n",
    "\n",
    "##### •  Object-Oriented Programming (OOP): OOP organizes code around objects that encapsulate data and behavior. It emphasizes concepts like classes, objects, inheritance, and polymorphism to model real-world entities and their interactions.\n",
    "\n",
    "##### • Functional Programming is an approach to writing code that focuses on using functions as the main building blocks. In Functional Programming, we try to write code by combining small, reusable functions, that take input or perform specific tasks, together to solve problems. The main idea of Functional Programming is that functions don't change data. Instead, they take input and produce new output without modifying the original data.\n",
    "\n",
    "##### • Aspect-Oriented Programming is a way of organizing code to make it easier to manage and maintain. Imagine that we have a big program, and there are different things happening in different places, like logging or error handling. In Aspect-Oriented Programming, we separate these common tasks from the main code and treat them as separate \"aspects\". By separating these common tasks into aspects, we can keep the main code cleaner, more focused, and easier to modify in the future.\n"
   ]
  },
  {
   "cell_type": "code",
   "execution_count": null,
   "id": "1f8df468",
   "metadata": {},
   "outputs": [],
   "source": []
  },
  {
   "cell_type": "code",
   "execution_count": null,
   "id": "d3b53e91",
   "metadata": {},
   "outputs": [],
   "source": []
  },
  {
   "cell_type": "code",
   "execution_count": null,
   "id": "0f8a21a7",
   "metadata": {},
   "outputs": [],
   "source": []
  },
  {
   "cell_type": "code",
   "execution_count": null,
   "id": "71d6f950",
   "metadata": {},
   "outputs": [],
   "source": []
  },
  {
   "cell_type": "code",
   "execution_count": null,
   "id": "004b8ade",
   "metadata": {},
   "outputs": [],
   "source": []
  },
  {
   "cell_type": "code",
   "execution_count": null,
   "id": "fbb5251f",
   "metadata": {},
   "outputs": [],
   "source": []
  },
  {
   "cell_type": "code",
   "execution_count": null,
   "id": "d80590ff",
   "metadata": {},
   "outputs": [],
   "source": []
  }
 ],
 "metadata": {
  "kernelspec": {
   "display_name": "Python 3 (ipykernel)",
   "language": "python",
   "name": "python3"
  },
  "language_info": {
   "codemirror_mode": {
    "name": "ipython",
    "version": 3
   },
   "file_extension": ".py",
   "mimetype": "text/x-python",
   "name": "python",
   "nbconvert_exporter": "python",
   "pygments_lexer": "ipython3",
   "version": "3.9.13"
  }
 },
 "nbformat": 4,
 "nbformat_minor": 5
}
