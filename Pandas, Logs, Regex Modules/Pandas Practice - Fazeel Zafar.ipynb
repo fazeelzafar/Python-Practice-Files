{
 "cells": [
  {
   "cell_type": "code",
   "execution_count": null,
   "id": "dbdfd0e6",
   "metadata": {},
   "outputs": [],
   "source": [
    "import pandas as pd\n",
    "import numpy as np\n",
    "\n",
    "# Creating the first dataframe with car make, model, and variant\n",
    "data1 = {\n",
    "    'Make': ['Toyota', 'Honda', 'Ford', 'Chevrolet', 'Nissan', 'BMW', 'Audi', 'Mercedes', 'Volkswagen', 'Hyundai',\n",
    "             'Kia', 'Volvo', 'Lexus', 'Mazda', 'Subaru', 'Jeep', 'Tesla', 'Jaguar', 'Land Rover', 'Mitsubishi',\n",
    "             'Peugeot', 'Renault', 'Fiat', 'Chrysler', 'Porsche', 'Mini', 'Suzuki', 'Dodge', 'Acura', 'Infiniti'],\n",
    "    'Model': ['Camry', 'Civic', 'Focus', 'Cruze', 'Sentra', '3 Series', 'A4', 'C-Class', 'Golf', 'Elantra', 'Soul',\n",
    "              'S60', 'IS', 'CX-5', 'Impreza', 'Wrangler', 'Model S', 'XF', 'Range Rover', 'Outlander', '308', 'Clio',\n",
    "              '500', '300', '911', 'Cooper', 'Swift', 'Challenger', 'MDX', 'Q50'],\n",
    "    'Variant': ['SE', 'EX', 'Titanium', 'LT', 'SV', '330i', 'Premium', 'AMG', 'Trendline', 'GLS', 'GT-Line', 'R-Design',\n",
    "                'Luxury', 'Sport', 'Limited', 'Rubicon', 'Long Range', 'S', 'Autobiography', 'GLS', 'Allure', 'RS',\n",
    "                'Lounge', 'Limited', 'Turbo', 'S', 'GLX', 'SXT', 'Technology', 'Essential']\n",
    "}\n",
    "df1 = pd.DataFrame(data1)"
   ]
  },
  {
   "cell_type": "code",
   "execution_count": null,
   "id": "77e9f242",
   "metadata": {},
   "outputs": [],
   "source": [
    "df1"
   ]
  },
  {
   "cell_type": "code",
   "execution_count": null,
   "id": "1bdbf57a",
   "metadata": {},
   "outputs": [],
   "source": [
    "# Creating the second dataframe with mileage, engine CC, and horsepower\n",
    "data2 = {\n",
    "    'Mileage': [10000, 20000, np.nan, 40000, 50000, 60000, 35000, 42000, 15000, 30000,\n",
    "                45000, np.nan, 25000, 28000, 38000, 5000, 32000, np.nan, 27000, 38000,\n",
    "                42000, 20000, 18000, np.nan, 23000, 29000, 22000, 34000, np.nan, 26000],\n",
    "    'EngineCC': [2000, 1800, 2500, 1500, np.nan, 3000, 2000, 2500, 1800, np.nan,\n",
    "                 1600, 2000, 2500, 2200, 2800, np.nan, 3000, 1900, 2200, 1800,\n",
    "                 1600, np.nan, 1400, 3000, 2500, 1800, 1500, 2000, 1600, 2200],\n",
    "    'Horsepower': [180, 150, 200, np.nan, 190, 250, 170, 210, 140, 180,\n",
    "                   np.nan, 190, 220, 200, np.nan, 300, 210, 160, 180, 190,\n",
    "                   np.nan, 150, 135, 220, 200, 160, 180, 190, np.nan, 205]\n",
    "}\n",
    "df2 = pd.DataFrame(data2)"
   ]
  },
  {
   "cell_type": "code",
   "execution_count": null,
   "id": "ab7c250c",
   "metadata": {},
   "outputs": [],
   "source": [
    "df2"
   ]
  },
  {
   "cell_type": "code",
   "execution_count": null,
   "id": "4ec49a0a",
   "metadata": {},
   "outputs": [],
   "source": [
    "# Merge both dataframes using \"concat\" function\n",
    "merged_df = pd.concat([df1, df2], axis=1)"
   ]
  },
  {
   "cell_type": "code",
   "execution_count": null,
   "id": "b5f38e6c",
   "metadata": {},
   "outputs": [],
   "source": [
    "merged_df"
   ]
  },
  {
   "cell_type": "code",
   "execution_count": null,
   "id": "d71ff518",
   "metadata": {},
   "outputs": [],
   "source": [
    "#Finding out the sum of duplicates in the merged dataframe\n",
    "len(merged_df)-len(merged_df.drop_duplicates())"
   ]
  },
  {
   "cell_type": "code",
   "execution_count": null,
   "id": "2c0a8edf",
   "metadata": {},
   "outputs": [],
   "source": [
    "#Finding out the sum of total null values\n",
    "merged_df.isna().sum()"
   ]
  },
  {
   "cell_type": "code",
   "execution_count": null,
   "id": "f64bc70d",
   "metadata": {},
   "outputs": [],
   "source": [
    "#Filling all the null values by \"mean\"\n",
    "merged_df['Mileage'].fillna(merged_df['Mileage'].mean(), inplace=True)  # Fill missing mileage values with mean\n",
    "merged_df['EngineCC'].fillna(merged_df['EngineCC'].mean(), inplace=True)  # Fill missing EngineCC values with median\n",
    "merged_df['Horsepower'].fillna(merged_df['Horsepower'].mean(), inplace=True)  # Fill missing Horsepower values with mode"
   ]
  },
  {
   "cell_type": "code",
   "execution_count": null,
   "id": "27d158cc",
   "metadata": {},
   "outputs": [],
   "source": [
    "#Another method, where we can simply drop the null columns\n",
    "merged_df.dropna(inplace=True)\n",
    "merged_df.reset_index(inplace=True)"
   ]
  },
  {
   "cell_type": "code",
   "execution_count": null,
   "id": "6fb02bc5",
   "metadata": {},
   "outputs": [],
   "source": [
    "merged_df"
   ]
  },
  {
   "cell_type": "code",
   "execution_count": null,
   "id": "3b45e8cf",
   "metadata": {
    "scrolled": true
   },
   "outputs": [],
   "source": [
    "#Maximum value in merged dataframe\n",
    "merged_df.max()"
   ]
  },
  {
   "cell_type": "code",
   "execution_count": null,
   "id": "b03674b9",
   "metadata": {},
   "outputs": [],
   "source": [
    "#Minimum value in merged dataframe\n",
    "merged_df.min()"
   ]
  },
  {
   "cell_type": "code",
   "execution_count": null,
   "id": "fe754826",
   "metadata": {
    "scrolled": false
   },
   "outputs": [],
   "source": [
    "hist = merged_df.plot.hist(x='Model', y='Mileage', bins=10, color='blue', alpha=0.7)\n",
    "hist.set_xlabel('Model')\n",
    "hist.set_ylabel('Model')"
   ]
  },
  {
   "cell_type": "code",
   "execution_count": null,
   "id": "b7b66bf5",
   "metadata": {},
   "outputs": [],
   "source": []
  },
  {
   "cell_type": "code",
   "execution_count": null,
   "id": "a93a5780",
   "metadata": {},
   "outputs": [],
   "source": []
  },
  {
   "cell_type": "code",
   "execution_count": null,
   "id": "e9bbc004",
   "metadata": {},
   "outputs": [],
   "source": []
  },
  {
   "cell_type": "code",
   "execution_count": null,
   "id": "42c4a41b",
   "metadata": {},
   "outputs": [],
   "source": []
  }
 ],
 "metadata": {
  "kernelspec": {
   "display_name": "Python 3 (ipykernel)",
   "language": "python",
   "name": "python3"
  },
  "language_info": {
   "codemirror_mode": {
    "name": "ipython",
    "version": 3
   },
   "file_extension": ".py",
   "mimetype": "text/x-python",
   "name": "python",
   "nbconvert_exporter": "python",
   "pygments_lexer": "ipython3",
   "version": "3.9.13"
  }
 },
 "nbformat": 4,
 "nbformat_minor": 5
}
