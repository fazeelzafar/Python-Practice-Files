{
 "cells": [
  {
   "cell_type": "markdown",
   "id": "f0862eb3",
   "metadata": {},
   "source": [
    "# Internship Task 1 by Fazeel Zafar"
   ]
  },
  {
   "cell_type": "markdown",
   "id": "61901e1a",
   "metadata": {},
   "source": [
    "# Python Syntax, Comments, Variable Names:\n",
    "\n",
    "##### • Comments are used to add explanatory notes within the code. They are ignored by the interpreter. Two types of comments, single and multi-line, have been used here \n",
    "\n",
    "##### • Variable names are used to store and refer to data. They should be descriptive and follow certain naming conventions."
   ]
  },
  {
   "cell_type": "code",
   "execution_count": 1,
   "id": "eb756b24",
   "metadata": {},
   "outputs": [
    {
     "data": {
      "text/plain": [
       "'\\nThis is a multi-line comments.\\nI can write multiple lines using this comments\\n'"
      ]
     },
     "execution_count": 1,
     "metadata": {},
     "output_type": "execute_result"
    }
   ],
   "source": [
    "#This is a single line comment.\n",
    "\n",
    "\"\"\"\n",
    "This is a multi-line comments.\n",
    "I can write multiple lines using this comments\n",
    "\"\"\""
   ]
  },
  {
   "cell_type": "code",
   "execution_count": 2,
   "id": "2d6a9046",
   "metadata": {},
   "outputs": [
    {
     "name": "stdout",
     "output_type": "stream",
     "text": [
      "My name is Fazeel\n"
     ]
    }
   ],
   "source": [
    "#Here I have declared a variable with a random string and then printed the value of this variable\n",
    "intro = \"My name is Fazeel\"\n",
    "\n",
    "print(intro)"
   ]
  },
  {
   "cell_type": "markdown",
   "id": "819bfc38",
   "metadata": {},
   "source": [
    "# Data Types:\n",
    "\n",
    "##### • Data types in Python define the kind of values that variables can hold.\n",
    "\n",
    "##### • Common data types include integers, floating-point numbers, strings, booleans, and the special value \"None\". Because Python is an interpreted language, we don't have to declare variables every time."
   ]
  },
  {
   "cell_type": "code",
   "execution_count": 3,
   "id": "b3b3e161",
   "metadata": {},
   "outputs": [],
   "source": [
    "x = 1000  #The data type of this variable will be \"int\"\n",
    "y = 12.364 #The data type of this variable will be \"float\"\n",
    "\n",
    "name = \"John\"  # #The data type of this variable will be \"string\"\n",
    "\n",
    "boolean = True  # #The data type of this variable will be \"boolean\"\n",
    "\n",
    "NoneType = None  # This is a \"none\" data type variable\n"
   ]
  },
  {
   "cell_type": "code",
   "execution_count": 8,
   "id": "38d6f9be",
   "metadata": {},
   "outputs": [
    {
     "name": "stdout",
     "output_type": "stream",
     "text": [
      "<class 'NoneType'>\n"
     ]
    }
   ],
   "source": [
    "print(type(NoneType))"
   ]
  },
  {
   "cell_type": "markdown",
   "id": "6c9f1b3d",
   "metadata": {},
   "source": [
    "# Lists, Tuples, Sets, Dictionaries:\n",
    "\n",
    "##### • Lists are ordered collections that can store multiple values of different types.\n",
    "\n",
    "##### • Tuples are similar to lists but are immutable, meaning their values cannot be changed once defined.\n",
    "\n",
    "##### • Sets are unordered collections that store unique values.\n",
    "\n",
    "##### • Dictionaries are key-value pairs that allow efficient lookup and storage of data."
   ]
  },
  {
   "cell_type": "code",
   "execution_count": 10,
   "id": "a15fd10c",
   "metadata": {},
   "outputs": [],
   "source": [
    "fruits = [\"guava\", \"mango\", \"orange\"]\n",
    "\n",
    "numbers = (2, 4, 6, 8 , 10)\n",
    "\n",
    "colors = {\"red\", \"yellow\", \"green\", \"blue\"}\n",
    "\n",
    "person_details = {\n",
    "    \"name\": \"Fazeel\",\n",
    "    \"age\": 23,\n",
    "    \"city\": \"Karachi\",\n",
    "    \"country\": \"Pakistan\"\n",
    "}"
   ]
  },
  {
   "cell_type": "code",
   "execution_count": 11,
   "id": "15643dc6",
   "metadata": {},
   "outputs": [
    {
     "name": "stdout",
     "output_type": "stream",
     "text": [
      "guava\n",
      "4\n",
      "Fazeel\n"
     ]
    }
   ],
   "source": [
    "print(fruits[0])\n",
    "print(numbers[1])\n",
    "print(person_details[\"name\"]) "
   ]
  },
  {
   "cell_type": "markdown",
   "id": "c670d076",
   "metadata": {},
   "source": [
    "# Conditions & Loops:\n",
    "\n",
    "##### • Conditions allow you to check if certain conditions are met before executing specific blocks of code.\n",
    "\n",
    "##### • Common conditional statements include if, elif (short for \"else if\"), and else.\n",
    "\n",
    "##### • Loops allow you to repeat a block of code multiple times.\n",
    "\n",
    "##### • The for loop is used for iterating over a sequence, and the while loop is used when a condition needs to be satisfied."
   ]
  },
  {
   "cell_type": "code",
   "execution_count": 14,
   "id": "b82d3146",
   "metadata": {},
   "outputs": [
    {
     "name": "stdout",
     "output_type": "stream",
     "text": [
      "Greater than zero\n",
      "bugatti\n",
      "bmw\n",
      "lexus\n",
      "0\n",
      "1\n",
      "2\n",
      "3\n",
      "4\n",
      "5\n"
     ]
    }
   ],
   "source": [
    "x = 5\n",
    "\n",
    "if x > 0:\n",
    "    print(\"Greater than zero\")\n",
    "elif x < 0:\n",
    "    print(\"Less than zero\")\n",
    "else:\n",
    "    print(\"Zero\")\n",
    "\n",
    "# Loops (for and while)\n",
    "cars = [\"bugatti\", \"bmw\", \"lexus\"]\n",
    "# For loop\n",
    "for car in cars:\n",
    "    print(car)\n",
    "\n",
    "# While loop\n",
    "count = 0\n",
    "while count < 6:\n",
    "    print(count)\n",
    "    count += 1"
   ]
  },
  {
   "cell_type": "markdown",
   "id": "d775d49f",
   "metadata": {},
   "source": [
    "# Functions, Lambda:\n",
    "\n",
    "##### • Functions are reusable blocks of code that perform specific tasks. They can accept input parameters and return values.\n",
    "\n",
    "##### • Functions are defined using the def keyword and can be called to execute their code.\n",
    "\n",
    "##### • Lambda functions are anonymous functions that can be used for simple tasks without the need for a formal function definition."
   ]
  },
  {
   "cell_type": "code",
   "execution_count": 15,
   "id": "f1d9290e",
   "metadata": {},
   "outputs": [
    {
     "name": "stdout",
     "output_type": "stream",
     "text": [
      "Hi there, Fazeel\n"
     ]
    }
   ],
   "source": [
    "def MyName(name):\n",
    "    print(\"Hi there, \" + name )\n",
    "\n",
    "MyName(\"Fazeel\")"
   ]
  },
  {
   "cell_type": "code",
   "execution_count": 16,
   "id": "fbd34be1",
   "metadata": {},
   "outputs": [
    {
     "name": "stdout",
     "output_type": "stream",
     "text": [
      "16\n"
     ]
    }
   ],
   "source": [
    "add = lambda x, y: x + y\n",
    "result = add(5, 11)\n",
    "print(result)"
   ]
  },
  {
   "cell_type": "markdown",
   "id": "2ef366f3",
   "metadata": {},
   "source": [
    "# Classes/Objects, Inheritance:\n",
    "\n",
    "##### • Classes are blueprints for creating objects, which are instances of those classes.\n",
    "\n",
    "##### • Classes encapsulate data (attributes) and functions (methods) that operate on that data.\n",
    "\n",
    "##### • Inheritance allows a class to inherit attributes and methods from another class, forming a parent-child relationship."
   ]
  },
  {
   "cell_type": "code",
   "execution_count": 17,
   "id": "ba9bb039",
   "metadata": {},
   "outputs": [
    {
     "name": "stdout",
     "output_type": "stream",
     "text": [
      "5\n",
      "15\n"
     ]
    }
   ],
   "source": [
    "# Class definition\n",
    "class Rectangle:\n",
    "    def __init__(self, width, height):\n",
    "        self.width = width\n",
    "        self.height = height\n",
    "\n",
    "    def area(self):\n",
    "        return self.width * self.height\n",
    "\n",
    "#An object of the class\n",
    "rect = Rectangle(5, 3)\n",
    "\n",
    "\n",
    "print(rect.width)\n",
    "print(rect.area())"
   ]
  },
  {
   "cell_type": "code",
   "execution_count": 18,
   "id": "d1612174",
   "metadata": {},
   "outputs": [
    {
     "name": "stdout",
     "output_type": "stream",
     "text": [
      "16\n"
     ]
    }
   ],
   "source": [
    "class Square(Rectangle):\n",
    "    def __init__(self, side):\n",
    "        super().__init__(side, side)\n",
    "\n",
    "square = Square(4)\n",
    "print(square.area())"
   ]
  },
  {
   "cell_type": "markdown",
   "id": "68bca67d",
   "metadata": {},
   "source": [
    "# Modules:\n",
    "\n",
    "##### • Modules are files containing Python code that can be imported and used in other Python programs.\n",
    "\n",
    "##### • Python provides a rich library of modules for various purposes, and you can also create your own modules."
   ]
  },
  {
   "cell_type": "code",
   "execution_count": 20,
   "id": "8250e0ce",
   "metadata": {},
   "outputs": [
    {
     "name": "stdout",
     "output_type": "stream",
     "text": [
      "4.0\n",
      "3.141592653589793\n",
      "0.8414709848078965\n"
     ]
    }
   ],
   "source": [
    "import math\n",
    "\n",
    "print(math.sqrt(16))\n",
    "print(math.pi)  \n",
    "print(math.sin(1))"
   ]
  },
  {
   "cell_type": "markdown",
   "id": "5110e832",
   "metadata": {},
   "source": [
    "# Try/Except:\n",
    "\n",
    "##### • The try-except block is used for exception handling. It allows you to handle potential errors (exceptions) that may occur during program execution.\n",
    "\n",
    "##### • Code that may raise an exception is placed inside the try block, and any potential exceptions are caught and handled in the except block."
   ]
  },
  {
   "cell_type": "code",
   "execution_count": 23,
   "id": "4d3e57c6",
   "metadata": {},
   "outputs": [
    {
     "name": "stdout",
     "output_type": "stream",
     "text": [
      "Enter a number: 0\n",
      "Division by zero not possible.\n"
     ]
    }
   ],
   "source": [
    "try:\n",
    "    number = int(input(\"Enter a number: \"))\n",
    "    result = 1 / number\n",
    "    print(\"Result: \", result)\n",
    "except ValueError:\n",
    "    print(\"Enter a valid number!\")\n",
    "except ZeroDivisionError:\n",
    "    print(\"Division by zero not possible.\")"
   ]
  },
  {
   "cell_type": "markdown",
   "id": "c13dfd4b",
   "metadata": {},
   "source": [
    "# User Input and String Formatting:\n",
    "\n",
    "##### • Python allows you to interact with the user by accepting input using the input() function. User input is typically stored in variables for further processing.\n",
    "\n",
    "##### • String formatting allows you to construct dynamic strings by inserting variables or values into predefined templates using placeholders."
   ]
  },
  {
   "cell_type": "code",
   "execution_count": 24,
   "id": "810347be",
   "metadata": {},
   "outputs": [
    {
     "name": "stdout",
     "output_type": "stream",
     "text": [
      "Enter your name: Fazeel\n",
      "Hello, Fazeel\n",
      "My name is Fazeel I am 23 years old.\n"
     ]
    }
   ],
   "source": [
    "# User input\n",
    "name = input(\"Enter your name: \")\n",
    "print(\"Hello, \" + name)\n",
    "\n",
    "# String formatting\n",
    "age = 23\n",
    "message = \"My name is {} I am {} years old.\".format(name,age)\n",
    "print(message)"
   ]
  }
 ],
 "metadata": {
  "kernelspec": {
   "display_name": "Python 3 (ipykernel)",
   "language": "python",
   "name": "python3"
  },
  "language_info": {
   "codemirror_mode": {
    "name": "ipython",
    "version": 3
   },
   "file_extension": ".py",
   "mimetype": "text/x-python",
   "name": "python",
   "nbconvert_exporter": "python",
   "pygments_lexer": "ipython3",
   "version": "3.9.13"
  }
 },
 "nbformat": 4,
 "nbformat_minor": 5
}
